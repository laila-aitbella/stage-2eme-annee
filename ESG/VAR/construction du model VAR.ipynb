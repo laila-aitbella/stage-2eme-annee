{
 "cells": [
  {
   "cell_type": "code",
   "execution_count": 2,
   "id": "158c4b33-6501-4c05-988e-5a084b2b609c",
   "metadata": {},
   "outputs": [],
   "source": [
    "import pandas as pd"
   ]
  },
  {
   "cell_type": "code",
   "execution_count": 3,
   "id": "cb3db04d-b19a-4ad6-acdb-111337f20a74",
   "metadata": {},
   "outputs": [],
   "source": [
    "df = pd.read_csv(\"base_VAR_trimestrielle.csv\")"
   ]
  },
  {
   "cell_type": "markdown",
   "id": "21797540-0f3a-4fab-a7db-b7cd71940904",
   "metadata": {},
   "source": [
    "## test de stationnarité "
   ]
  },
  {
   "cell_type": "code",
   "execution_count": 8,
   "id": "2f60e5b6-c84f-4c02-9c2b-39917642a834",
   "metadata": {},
   "outputs": [
    {
     "name": "stdout",
     "output_type": "stream",
     "text": [
      "\n",
      "Variable : gdp\n",
      "ADF Statistic = 3.9976\n",
      "p-value = 1.0000\n",
      "\n",
      "Variable : cpi\n",
      "ADF Statistic = 2.4433\n",
      "p-value = 0.9990\n",
      "\n",
      "Variable : unemp\n",
      "ADF Statistic = -2.4510\n",
      "p-value = 0.1279\n",
      "\n",
      "Variable : rate_3m\n",
      "ADF Statistic = -2.5466\n",
      "p-value = 0.1045\n",
      "\n",
      "Variable : rate_10y\n",
      "ADF Statistic = -2.3236\n",
      "p-value = 0.1645\n"
     ]
    }
   ],
   "source": [
    "from statsmodels.tsa.stattools import adfuller\n",
    "\n",
    "for col in ['gdp', 'cpi', 'unemp', 'rate_3m', 'rate_10y']:\n",
    "    result = adfuller(df[col].dropna())\n",
    "    print(f\"\\nVariable : {col}\")\n",
    "    print(f\"ADF Statistic = {result[0]:.4f}\")\n",
    "    print(f\"p-value = {result[1]:.4f}\")\n"
   ]
  },
  {
   "cell_type": "code",
   "execution_count": 9,
   "id": "9d34cf56-a6b7-4bb6-b88d-250ac443b2a0",
   "metadata": {},
   "outputs": [
    {
     "name": "stdout",
     "output_type": "stream",
     "text": [
      "\n",
      "Variable différenciée : gdp\n",
      "ADF Statistic = -4.9856\n",
      "p-value = 0.0000\n",
      "\n",
      "Variable différenciée : cpi\n",
      "ADF Statistic = -4.4091\n",
      "p-value = 0.0003\n",
      "\n",
      "Variable différenciée : unemp\n",
      "ADF Statistic = -12.3937\n",
      "p-value = 0.0000\n",
      "\n",
      "Variable différenciée : rate_3m\n",
      "ADF Statistic = -4.8232\n",
      "p-value = 0.0000\n",
      "\n",
      "Variable différenciée : rate_10y\n",
      "ADF Statistic = -6.1954\n",
      "p-value = 0.0000\n"
     ]
    }
   ],
   "source": [
    "# différencier les séries (première différence)\n",
    "df_diff = df.copy()\n",
    "df_diff.set_index(\"observation_date\", inplace=True)\n",
    "\n",
    "# Appliquer la première différence à chaque variable\n",
    "df_diff = df_diff.diff().dropna()\n",
    "\n",
    "# Test ADF sur les séries différenciées\n",
    "from statsmodels.tsa.stattools import adfuller\n",
    "\n",
    "for col in df_diff.columns:\n",
    "    result = adfuller(df_diff[col].dropna())\n",
    "    print(f\"\\nVariable différenciée : {col}\")\n",
    "    print(f\"ADF Statistic = {result[0]:.4f}\")\n",
    "    print(f\"p-value = {result[1]:.4f}\")"
   ]
  },
  {
   "cell_type": "markdown",
   "id": "90f7b5b1-c410-4f17-a511-b99a0c8bf6b4",
   "metadata": {},
   "source": [
    "## le model var"
   ]
  },
  {
   "cell_type": "code",
   "execution_count": 10,
   "id": "c3c0e5fd-9a65-4852-9d9a-eb43efc9cbf2",
   "metadata": {
    "scrolled": true
   },
   "outputs": [
    {
     "name": "stdout",
     "output_type": "stream",
     "text": [
      "  Summary of Regression Results   \n",
      "==================================\n",
      "Model:                         VAR\n",
      "Method:                        OLS\n",
      "Date:           Sun, 13, Jul, 2025\n",
      "Time:                     00:37:00\n",
      "--------------------------------------------------------------------\n",
      "No. of Equations:         5.00000    BIC:                    5.96818\n",
      "Nobs:                     139.000    HQIC:                   5.59221\n",
      "Log likelihood:          -1326.93    FPE:                    207.495\n",
      "AIC:                      5.33484    Det(Omega_mle):         167.974\n",
      "--------------------------------------------------------------------\n",
      "Results for equation gdp\n",
      "==============================================================================\n",
      "                 coefficient       std. error           t-stat            prob\n",
      "------------------------------------------------------------------------------\n",
      "const              67.921250        32.690167            2.078           0.038\n",
      "L1.gdp              0.477701         0.167949            2.844           0.004\n",
      "L1.cpi             21.559370        16.480168            1.308           0.191\n",
      "L1.unemp          255.608998        55.854792            4.576           0.000\n",
      "L1.rate_3m        184.063765        49.119514            3.747           0.000\n",
      "L1.rate_10y        -9.947408        49.866146           -0.199           0.842\n",
      "==============================================================================\n",
      "\n",
      "Results for equation cpi\n",
      "==============================================================================\n",
      "                 coefficient       std. error           t-stat            prob\n",
      "------------------------------------------------------------------------------\n",
      "const               0.649757         0.206367            3.149           0.002\n",
      "L1.gdp              0.002730         0.001060            2.575           0.010\n",
      "L1.cpi              0.185658         0.104036            1.785           0.074\n",
      "L1.unemp            0.837080         0.352602            2.374           0.018\n",
      "L1.rate_3m          0.273666         0.310083            0.883           0.377\n",
      "L1.rate_10y        -0.264321         0.314796           -0.840           0.401\n",
      "==============================================================================\n",
      "\n",
      "Results for equation unemp\n",
      "==============================================================================\n",
      "                 coefficient       std. error           t-stat            prob\n",
      "------------------------------------------------------------------------------\n",
      "const               0.057962         0.096646            0.600           0.549\n",
      "L1.gdp             -0.000357         0.000497           -0.719           0.472\n",
      "L1.cpi             -0.015737         0.048723           -0.323           0.747\n",
      "L1.unemp           -0.245442         0.165131           -1.486           0.137\n",
      "L1.rate_3m         -0.486483         0.145219           -3.350           0.001\n",
      "L1.rate_10y        -0.093409         0.147426           -0.634           0.526\n",
      "==============================================================================\n",
      "\n",
      "Results for equation rate_3m\n",
      "==============================================================================\n",
      "                 coefficient       std. error           t-stat            prob\n",
      "------------------------------------------------------------------------------\n",
      "const              -0.002213         0.055252           -0.040           0.968\n",
      "L1.gdp              0.000096         0.000284            0.339           0.735\n",
      "L1.cpi             -0.017795         0.027854           -0.639           0.523\n",
      "L1.unemp           -0.001879         0.094404           -0.020           0.984\n",
      "L1.rate_3m          0.515793         0.083021            6.213           0.000\n",
      "L1.rate_10y         0.066922         0.084283            0.794           0.427\n",
      "==============================================================================\n",
      "\n",
      "Results for equation rate_10y\n",
      "==============================================================================\n",
      "                 coefficient       std. error           t-stat            prob\n",
      "------------------------------------------------------------------------------\n",
      "const              -0.090516         0.067012           -1.351           0.177\n",
      "L1.gdp              0.000419         0.000344            1.218           0.223\n",
      "L1.cpi             -0.008007         0.033783           -0.237           0.813\n",
      "L1.unemp            0.105296         0.114498            0.920           0.358\n",
      "L1.rate_3m          0.014202         0.100691            0.141           0.888\n",
      "L1.rate_10y        -0.014856         0.102222           -0.145           0.884\n",
      "==============================================================================\n",
      "\n",
      "Correlation matrix of residuals\n",
      "                 gdp       cpi     unemp   rate_3m  rate_10y\n",
      "gdp         1.000000  0.448635 -0.860528  0.113322  0.198753\n",
      "cpi         0.448635  1.000000 -0.220503  0.257739  0.378918\n",
      "unemp      -0.860528 -0.220503  1.000000 -0.028471 -0.080816\n",
      "rate_3m     0.113322  0.257739 -0.028471  1.000000  0.533823\n",
      "rate_10y    0.198753  0.378918 -0.080816  0.533823  1.000000\n",
      "\n",
      "\n",
      "\n"
     ]
    },
    {
     "name": "stderr",
     "output_type": "stream",
     "text": [
      "C:\\Users\\hp\\anaconda3\\Lib\\site-packages\\statsmodels\\tsa\\base\\tsa_model.py:473: ValueWarning: No frequency information was provided, so inferred frequency QE-DEC will be used.\n",
      "  self._init_dates(dates, freq)\n"
     ]
    }
   ],
   "source": [
    "from statsmodels.tsa.api import VAR\n",
    "model = VAR(df_diff)\n",
    "\n",
    "results = model.fit(1)\n",
    "\n",
    "print(results.summary())"
   ]
  },
  {
   "cell_type": "code",
   "execution_count": 11,
   "id": "46d8672e-1104-4a8a-b3c1-caf91cac0227",
   "metadata": {},
   "outputs": [
    {
     "name": "stdout",
     "output_type": "stream",
     "text": [
      "gdp : Durbin-Watson = 2.018\n",
      "cpi : Durbin-Watson = 2.109\n",
      "unemp : Durbin-Watson = 1.923\n",
      "rate_3m : Durbin-Watson = 2.164\n",
      "rate_10y : Durbin-Watson = 2.027\n"
     ]
    }
   ],
   "source": [
    "# test de la non corelation des résudus \n",
    "from statsmodels.stats.stattools import durbin_watson\n",
    "\n",
    "dw = durbin_watson(results.resid)\n",
    "\n",
    "for col, val in zip(df_diff.columns, dw):\n",
    "    print(f\"{col} : Durbin-Watson = {val:.3f}\")"
   ]
  },
  {
   "cell_type": "markdown",
   "id": "008dc543-5b48-49b4-992f-038738415ff7",
   "metadata": {},
   "source": [
    "donc modèle ne présente pas d'autocorrélation sérieuse dans les résidus.\n",
    "C’est un bon signe : le modèle VAR est bien spécifié "
   ]
  },
  {
   "cell_type": "code",
   "execution_count": 12,
   "id": "4cd065a8-7dbe-455d-a51c-80ad654a13de",
   "metadata": {},
   "outputs": [],
   "source": [
    "A1 = pd.DataFrame(results.coefs[0],\n",
    "                  index=df_diff.columns,\n",
    "                  columns=df_diff.columns)\n"
   ]
  },
  {
   "cell_type": "code",
   "execution_count": 13,
   "id": "ba84d960-bcb2-4b01-9041-12999a838a11",
   "metadata": {},
   "outputs": [
    {
     "data": {
      "text/html": [
       "<div>\n",
       "<style scoped>\n",
       "    .dataframe tbody tr th:only-of-type {\n",
       "        vertical-align: middle;\n",
       "    }\n",
       "\n",
       "    .dataframe tbody tr th {\n",
       "        vertical-align: top;\n",
       "    }\n",
       "\n",
       "    .dataframe thead th {\n",
       "        text-align: right;\n",
       "    }\n",
       "</style>\n",
       "<table border=\"1\" class=\"dataframe\">\n",
       "  <thead>\n",
       "    <tr style=\"text-align: right;\">\n",
       "      <th></th>\n",
       "      <th>gdp</th>\n",
       "      <th>cpi</th>\n",
       "      <th>unemp</th>\n",
       "      <th>rate_3m</th>\n",
       "      <th>rate_10y</th>\n",
       "    </tr>\n",
       "  </thead>\n",
       "  <tbody>\n",
       "    <tr>\n",
       "      <th>gdp</th>\n",
       "      <td>0.477701</td>\n",
       "      <td>21.559370</td>\n",
       "      <td>255.608998</td>\n",
       "      <td>184.063765</td>\n",
       "      <td>-9.947408</td>\n",
       "    </tr>\n",
       "    <tr>\n",
       "      <th>cpi</th>\n",
       "      <td>0.002730</td>\n",
       "      <td>0.185658</td>\n",
       "      <td>0.837080</td>\n",
       "      <td>0.273666</td>\n",
       "      <td>-0.264321</td>\n",
       "    </tr>\n",
       "    <tr>\n",
       "      <th>unemp</th>\n",
       "      <td>-0.000357</td>\n",
       "      <td>-0.015737</td>\n",
       "      <td>-0.245442</td>\n",
       "      <td>-0.486483</td>\n",
       "      <td>-0.093409</td>\n",
       "    </tr>\n",
       "    <tr>\n",
       "      <th>rate_3m</th>\n",
       "      <td>0.000096</td>\n",
       "      <td>-0.017795</td>\n",
       "      <td>-0.001879</td>\n",
       "      <td>0.515793</td>\n",
       "      <td>0.066922</td>\n",
       "    </tr>\n",
       "    <tr>\n",
       "      <th>rate_10y</th>\n",
       "      <td>0.000419</td>\n",
       "      <td>-0.008007</td>\n",
       "      <td>0.105296</td>\n",
       "      <td>0.014202</td>\n",
       "      <td>-0.014856</td>\n",
       "    </tr>\n",
       "  </tbody>\n",
       "</table>\n",
       "</div>"
      ],
      "text/plain": [
       "               gdp        cpi       unemp     rate_3m  rate_10y\n",
       "gdp       0.477701  21.559370  255.608998  184.063765 -9.947408\n",
       "cpi       0.002730   0.185658    0.837080    0.273666 -0.264321\n",
       "unemp    -0.000357  -0.015737   -0.245442   -0.486483 -0.093409\n",
       "rate_3m   0.000096  -0.017795   -0.001879    0.515793  0.066922\n",
       "rate_10y  0.000419  -0.008007    0.105296    0.014202 -0.014856"
      ]
     },
     "execution_count": 13,
     "metadata": {},
     "output_type": "execute_result"
    }
   ],
   "source": [
    "A1"
   ]
  },
  {
   "cell_type": "code",
   "execution_count": 14,
   "id": "9b11b2ca-9abe-41c7-8d43-8f510926e74e",
   "metadata": {},
   "outputs": [],
   "source": [
    "const = pd.Series(results.intercept,\n",
    "                  index=df_diff.columns,\n",
    "                  name='const')"
   ]
  },
  {
   "cell_type": "code",
   "execution_count": 15,
   "id": "078d389d-609b-49fc-b93d-f7c6b9ce6f89",
   "metadata": {},
   "outputs": [
    {
     "data": {
      "text/plain": [
       "gdp         67.921250\n",
       "cpi          0.649757\n",
       "unemp        0.057962\n",
       "rate_3m     -0.002213\n",
       "rate_10y    -0.090516\n",
       "Name: const, dtype: float64"
      ]
     },
     "execution_count": 15,
     "metadata": {},
     "output_type": "execute_result"
    }
   ],
   "source": [
    "const"
   ]
  },
  {
   "cell_type": "code",
   "execution_count": 16,
   "id": "4b42866b-71c7-4385-b96b-a7898aefc6b1",
   "metadata": {},
   "outputs": [],
   "source": [
    "residual = results.resid.std(axis=0).rename('residual')\n"
   ]
  },
  {
   "cell_type": "code",
   "execution_count": 17,
   "id": "f2ca6051-ac52-41a4-9254-27f28dd81b39",
   "metadata": {},
   "outputs": [
    {
     "data": {
      "text/plain": [
       "gdp         223.210880\n",
       "cpi           1.409091\n",
       "unemp         0.659909\n",
       "rate_3m       0.377266\n",
       "rate_10y      0.457565\n",
       "Name: residual, dtype: float64"
      ]
     },
     "execution_count": 17,
     "metadata": {},
     "output_type": "execute_result"
    }
   ],
   "source": [
    "residual"
   ]
  },
  {
   "cell_type": "code",
   "execution_count": 18,
   "id": "595f7096-e14e-4d5e-8478-72186bd1788d",
   "metadata": {},
   "outputs": [
    {
     "name": "stdout",
     "output_type": "stream",
     "text": [
      "               gdp        cpi       unemp     rate_3m  rate_10y      const  \\\n",
      "gdp       0.477701  21.559370  255.608998  184.063765 -9.947408  67.921250   \n",
      "cpi       0.002730   0.185658    0.837080    0.273666 -0.264321   0.649757   \n",
      "unemp    -0.000357  -0.015737   -0.245442   -0.486483 -0.093409   0.057962   \n",
      "rate_3m   0.000096  -0.017795   -0.001879    0.515793  0.066922  -0.002213   \n",
      "rate_10y  0.000419  -0.008007    0.105296    0.014202 -0.014856  -0.090516   \n",
      "\n",
      "            residual  \n",
      "gdp       223.210880  \n",
      "cpi         1.409091  \n",
      "unemp       0.659909  \n",
      "rate_3m     0.377266  \n",
      "rate_10y    0.457565  \n"
     ]
    }
   ],
   "source": [
    "\n",
    "var = (\n",
    "    pd.concat([A1, const, residual], axis=1) )\n",
    "     \n",
    "\n",
    "print(var)"
   ]
  },
  {
   "cell_type": "code",
   "execution_count": 19,
   "id": "a0f02037-765f-4e23-806b-707cbd6730b5",
   "metadata": {},
   "outputs": [
    {
     "data": {
      "text/plain": [
       "5"
      ]
     },
     "execution_count": 19,
     "metadata": {},
     "output_type": "execute_result"
    }
   ],
   "source": [
    "len(var)"
   ]
  },
  {
   "cell_type": "code",
   "execution_count": 20,
   "id": "d58ae679-c0e7-4e78-84f3-81bec5866fe2",
   "metadata": {},
   "outputs": [
    {
     "name": "stdout",
     "output_type": "stream",
     "text": [
      "(5, 7)\n"
     ]
    }
   ],
   "source": [
    "print(var.shape)\n"
   ]
  },
  {
   "cell_type": "code",
   "execution_count": null,
   "id": "c5993c59-a3c4-4c1a-ae9f-3be7773829e6",
   "metadata": {},
   "outputs": [],
   "source": [
    "var.to_csv(\"var.csv\", index=True)"
   ]
  },
  {
   "cell_type": "code",
   "execution_count": 21,
   "id": "2688daac-9500-4807-ad6c-9fd398f842d0",
   "metadata": {},
   "outputs": [
    {
     "name": "stdout",
     "output_type": "stream",
     "text": [
      "           V1        V2        V3        V4        V5\n",
      "0  227.367864  0.000000  0.000000  0.000000  0.000000\n",
      "1    0.643940  1.282779  0.000000  0.000000  0.000000\n",
      "2   -0.578446  0.124524  0.318975  0.000000  0.000000\n",
      "3    0.043549  0.088965  0.021186  0.370702  0.000000\n",
      "4    0.092636  0.151110  0.029621  0.209089  0.375801\n"
     ]
    }
   ],
   "source": [
    "import numpy as np\n",
    "import pandas as pd\n",
    "\n",
    "# Extraire la matrice de covariance des résidus\n",
    "sigma_u = results.sigma_u\n",
    "\n",
    "# Appliquer la décomposition de Cholesky\n",
    "var1chol = np.linalg.cholesky(sigma_u)\n",
    "\n",
    "# Sauvegarder en CSV \n",
    "chol_df = pd.DataFrame(var1chol, columns=[f'V{i+1}' for i in range(var1chol.shape[1])])\n",
    "chol_df.to_csv(\"var1chol.csv\", index=False)\n",
    "\n",
    "print(chol_df)"
   ]
  },
  {
   "cell_type": "code",
   "execution_count": 1,
   "id": "b6c68904-8fb4-4496-a68b-e918717c766f",
   "metadata": {},
   "outputs": [
    {
     "data": {
      "text/plain": [
       "'C:\\\\Users\\\\hp\\\\stage 2eme annee\\\\ESG\\\\VAR'"
      ]
     },
     "execution_count": 1,
     "metadata": {},
     "output_type": "execute_result"
    }
   ],
   "source": [
    "import os\n",
    "os.getcwd()\n"
   ]
  }
 ],
 "metadata": {
  "kernelspec": {
   "display_name": "Python 3 (ipykernel)",
   "language": "python",
   "name": "python3"
  },
  "language_info": {
   "codemirror_mode": {
    "name": "ipython",
    "version": 3
   },
   "file_extension": ".py",
   "mimetype": "text/x-python",
   "name": "python",
   "nbconvert_exporter": "python",
   "pygments_lexer": "ipython3",
   "version": "3.11.5"
  }
 },
 "nbformat": 4,
 "nbformat_minor": 5
}
